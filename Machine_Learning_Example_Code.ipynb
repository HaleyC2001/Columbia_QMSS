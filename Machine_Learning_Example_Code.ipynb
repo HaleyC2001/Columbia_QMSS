{
  "nbformat": 4,
  "nbformat_minor": 0,
  "metadata": {
    "colab": {
      "provenance": []
    },
    "kernelspec": {
      "name": "python3",
      "display_name": "Python 3"
    },
    "language_info": {
      "name": "python"
    }
  },
  "cells": [
    {
      "cell_type": "code",
      "execution_count": null,
      "metadata": {
        "id": "8SBCaoLMNdVN"
      },
      "outputs": [],
      "source": [
        "#Import Python Libraries\n",
        "import numpy as np\n",
        "import scipy as sp\n",
        "import pandas as pd\n",
        "import matplotlib as mpl\n",
        "import seaborn as sns\n",
        "import matplotlib.pyplot as plt"
      ]
    },
    {
      "cell_type": "markdown",
      "source": [
        "#Part A: Analysis on California test scores\n",
        "\n"
      ],
      "metadata": {
        "id": "ff_JEZWxNryi"
      }
    },
    {
      "cell_type": "code",
      "source": [
        "df=pd.read_csv('https://vincentarelbundock.github.io/Rdatasets/csv/Ecdat/Caschool.csv')\n",
        "df.head()"
      ],
      "metadata": {
        "id": "8ccVtJtqNvim",
        "colab": {
          "base_uri": "https://localhost:8080/",
          "height": 377
        },
        "outputId": "49739633-6c01-427f-94e3-5b41dcb69db9"
      },
      "execution_count": null,
      "outputs": [
        {
          "output_type": "execute_result",
          "data": {
            "text/plain": [
              "   rownames  distcod   county                         district grspan  \\\n",
              "0         1    75119  Alameda               Sunol Glen Unified  KK-08   \n",
              "1         2    61499    Butte             Manzanita Elementary  KK-08   \n",
              "2         3    61549    Butte      Thermalito Union Elementary  KK-08   \n",
              "3         4    61457    Butte  Golden Feather Union Elementary  KK-08   \n",
              "4         5    61523    Butte         Palermo Union Elementary  KK-08   \n",
              "\n",
              "   enrltot   teachers    calwpct    mealpct  computer     testscr   compstu  \\\n",
              "0      195  10.900000   0.510200   2.040800        67  690.799988  0.343590   \n",
              "1      240  11.150000  15.416700  47.916698       101  661.200012  0.420833   \n",
              "2     1550  82.900002  55.032299  76.322601       169  643.599976  0.109032   \n",
              "3      243  14.000000  36.475399  77.049202        85  647.700012  0.349794   \n",
              "4     1335  71.500000  33.108601  78.427002       171  640.849976  0.128090   \n",
              "\n",
              "       expnstu        str     avginc      elpct     readscr     mathscr  \n",
              "0  6384.911133  17.889910  22.690001   0.000000  691.599976  690.000000  \n",
              "1  5099.380859  21.524664   9.824000   4.583333  660.500000  661.900024  \n",
              "2  5501.954590  18.697226   8.978000  30.000002  636.299988  650.900024  \n",
              "3  7101.831055  17.357143   8.978000   0.000000  651.900024  643.500000  \n",
              "4  5235.987793  18.671329   9.080333  13.857677  641.799988  639.900024  "
            ],
            "text/html": [
              "\n",
              "  <div id=\"df-b47619e2-7dce-4532-bd6d-2812b78676d0\" class=\"colab-df-container\">\n",
              "    <div>\n",
              "<style scoped>\n",
              "    .dataframe tbody tr th:only-of-type {\n",
              "        vertical-align: middle;\n",
              "    }\n",
              "\n",
              "    .dataframe tbody tr th {\n",
              "        vertical-align: top;\n",
              "    }\n",
              "\n",
              "    .dataframe thead th {\n",
              "        text-align: right;\n",
              "    }\n",
              "</style>\n",
              "<table border=\"1\" class=\"dataframe\">\n",
              "  <thead>\n",
              "    <tr style=\"text-align: right;\">\n",
              "      <th></th>\n",
              "      <th>rownames</th>\n",
              "      <th>distcod</th>\n",
              "      <th>county</th>\n",
              "      <th>district</th>\n",
              "      <th>grspan</th>\n",
              "      <th>enrltot</th>\n",
              "      <th>teachers</th>\n",
              "      <th>calwpct</th>\n",
              "      <th>mealpct</th>\n",
              "      <th>computer</th>\n",
              "      <th>testscr</th>\n",
              "      <th>compstu</th>\n",
              "      <th>expnstu</th>\n",
              "      <th>str</th>\n",
              "      <th>avginc</th>\n",
              "      <th>elpct</th>\n",
              "      <th>readscr</th>\n",
              "      <th>mathscr</th>\n",
              "    </tr>\n",
              "  </thead>\n",
              "  <tbody>\n",
              "    <tr>\n",
              "      <th>0</th>\n",
              "      <td>1</td>\n",
              "      <td>75119</td>\n",
              "      <td>Alameda</td>\n",
              "      <td>Sunol Glen Unified</td>\n",
              "      <td>KK-08</td>\n",
              "      <td>195</td>\n",
              "      <td>10.900000</td>\n",
              "      <td>0.510200</td>\n",
              "      <td>2.040800</td>\n",
              "      <td>67</td>\n",
              "      <td>690.799988</td>\n",
              "      <td>0.343590</td>\n",
              "      <td>6384.911133</td>\n",
              "      <td>17.889910</td>\n",
              "      <td>22.690001</td>\n",
              "      <td>0.000000</td>\n",
              "      <td>691.599976</td>\n",
              "      <td>690.000000</td>\n",
              "    </tr>\n",
              "    <tr>\n",
              "      <th>1</th>\n",
              "      <td>2</td>\n",
              "      <td>61499</td>\n",
              "      <td>Butte</td>\n",
              "      <td>Manzanita Elementary</td>\n",
              "      <td>KK-08</td>\n",
              "      <td>240</td>\n",
              "      <td>11.150000</td>\n",
              "      <td>15.416700</td>\n",
              "      <td>47.916698</td>\n",
              "      <td>101</td>\n",
              "      <td>661.200012</td>\n",
              "      <td>0.420833</td>\n",
              "      <td>5099.380859</td>\n",
              "      <td>21.524664</td>\n",
              "      <td>9.824000</td>\n",
              "      <td>4.583333</td>\n",
              "      <td>660.500000</td>\n",
              "      <td>661.900024</td>\n",
              "    </tr>\n",
              "    <tr>\n",
              "      <th>2</th>\n",
              "      <td>3</td>\n",
              "      <td>61549</td>\n",
              "      <td>Butte</td>\n",
              "      <td>Thermalito Union Elementary</td>\n",
              "      <td>KK-08</td>\n",
              "      <td>1550</td>\n",
              "      <td>82.900002</td>\n",
              "      <td>55.032299</td>\n",
              "      <td>76.322601</td>\n",
              "      <td>169</td>\n",
              "      <td>643.599976</td>\n",
              "      <td>0.109032</td>\n",
              "      <td>5501.954590</td>\n",
              "      <td>18.697226</td>\n",
              "      <td>8.978000</td>\n",
              "      <td>30.000002</td>\n",
              "      <td>636.299988</td>\n",
              "      <td>650.900024</td>\n",
              "    </tr>\n",
              "    <tr>\n",
              "      <th>3</th>\n",
              "      <td>4</td>\n",
              "      <td>61457</td>\n",
              "      <td>Butte</td>\n",
              "      <td>Golden Feather Union Elementary</td>\n",
              "      <td>KK-08</td>\n",
              "      <td>243</td>\n",
              "      <td>14.000000</td>\n",
              "      <td>36.475399</td>\n",
              "      <td>77.049202</td>\n",
              "      <td>85</td>\n",
              "      <td>647.700012</td>\n",
              "      <td>0.349794</td>\n",
              "      <td>7101.831055</td>\n",
              "      <td>17.357143</td>\n",
              "      <td>8.978000</td>\n",
              "      <td>0.000000</td>\n",
              "      <td>651.900024</td>\n",
              "      <td>643.500000</td>\n",
              "    </tr>\n",
              "    <tr>\n",
              "      <th>4</th>\n",
              "      <td>5</td>\n",
              "      <td>61523</td>\n",
              "      <td>Butte</td>\n",
              "      <td>Palermo Union Elementary</td>\n",
              "      <td>KK-08</td>\n",
              "      <td>1335</td>\n",
              "      <td>71.500000</td>\n",
              "      <td>33.108601</td>\n",
              "      <td>78.427002</td>\n",
              "      <td>171</td>\n",
              "      <td>640.849976</td>\n",
              "      <td>0.128090</td>\n",
              "      <td>5235.987793</td>\n",
              "      <td>18.671329</td>\n",
              "      <td>9.080333</td>\n",
              "      <td>13.857677</td>\n",
              "      <td>641.799988</td>\n",
              "      <td>639.900024</td>\n",
              "    </tr>\n",
              "  </tbody>\n",
              "</table>\n",
              "</div>\n",
              "    <div class=\"colab-df-buttons\">\n",
              "\n",
              "  <div class=\"colab-df-container\">\n",
              "    <button class=\"colab-df-convert\" onclick=\"convertToInteractive('df-b47619e2-7dce-4532-bd6d-2812b78676d0')\"\n",
              "            title=\"Convert this dataframe to an interactive table.\"\n",
              "            style=\"display:none;\">\n",
              "\n",
              "  <svg xmlns=\"http://www.w3.org/2000/svg\" height=\"24px\" viewBox=\"0 -960 960 960\">\n",
              "    <path d=\"M120-120v-720h720v720H120Zm60-500h600v-160H180v160Zm220 220h160v-160H400v160Zm0 220h160v-160H400v160ZM180-400h160v-160H180v160Zm440 0h160v-160H620v160ZM180-180h160v-160H180v160Zm440 0h160v-160H620v160Z\"/>\n",
              "  </svg>\n",
              "    </button>\n",
              "\n",
              "  <style>\n",
              "    .colab-df-container {\n",
              "      display:flex;\n",
              "      gap: 12px;\n",
              "    }\n",
              "\n",
              "    .colab-df-convert {\n",
              "      background-color: #E8F0FE;\n",
              "      border: none;\n",
              "      border-radius: 50%;\n",
              "      cursor: pointer;\n",
              "      display: none;\n",
              "      fill: #1967D2;\n",
              "      height: 32px;\n",
              "      padding: 0 0 0 0;\n",
              "      width: 32px;\n",
              "    }\n",
              "\n",
              "    .colab-df-convert:hover {\n",
              "      background-color: #E2EBFA;\n",
              "      box-shadow: 0px 1px 2px rgba(60, 64, 67, 0.3), 0px 1px 3px 1px rgba(60, 64, 67, 0.15);\n",
              "      fill: #174EA6;\n",
              "    }\n",
              "\n",
              "    .colab-df-buttons div {\n",
              "      margin-bottom: 4px;\n",
              "    }\n",
              "\n",
              "    [theme=dark] .colab-df-convert {\n",
              "      background-color: #3B4455;\n",
              "      fill: #D2E3FC;\n",
              "    }\n",
              "\n",
              "    [theme=dark] .colab-df-convert:hover {\n",
              "      background-color: #434B5C;\n",
              "      box-shadow: 0px 1px 3px 1px rgba(0, 0, 0, 0.15);\n",
              "      filter: drop-shadow(0px 1px 2px rgba(0, 0, 0, 0.3));\n",
              "      fill: #FFFFFF;\n",
              "    }\n",
              "  </style>\n",
              "\n",
              "    <script>\n",
              "      const buttonEl =\n",
              "        document.querySelector('#df-b47619e2-7dce-4532-bd6d-2812b78676d0 button.colab-df-convert');\n",
              "      buttonEl.style.display =\n",
              "        google.colab.kernel.accessAllowed ? 'block' : 'none';\n",
              "\n",
              "      async function convertToInteractive(key) {\n",
              "        const element = document.querySelector('#df-b47619e2-7dce-4532-bd6d-2812b78676d0');\n",
              "        const dataTable =\n",
              "          await google.colab.kernel.invokeFunction('convertToInteractive',\n",
              "                                                    [key], {});\n",
              "        if (!dataTable) return;\n",
              "\n",
              "        const docLinkHtml = 'Like what you see? Visit the ' +\n",
              "          '<a target=\"_blank\" href=https://colab.research.google.com/notebooks/data_table.ipynb>data table notebook</a>'\n",
              "          + ' to learn more about interactive tables.';\n",
              "        element.innerHTML = '';\n",
              "        dataTable['output_type'] = 'display_data';\n",
              "        await google.colab.output.renderOutput(dataTable, element);\n",
              "        const docLink = document.createElement('div');\n",
              "        docLink.innerHTML = docLinkHtml;\n",
              "        element.appendChild(docLink);\n",
              "      }\n",
              "    </script>\n",
              "  </div>\n",
              "\n",
              "\n",
              "<div id=\"df-0e3c9965-7927-400e-b058-0d41a2803fdf\">\n",
              "  <button class=\"colab-df-quickchart\" onclick=\"quickchart('df-0e3c9965-7927-400e-b058-0d41a2803fdf')\"\n",
              "            title=\"Suggest charts\"\n",
              "            style=\"display:none;\">\n",
              "\n",
              "<svg xmlns=\"http://www.w3.org/2000/svg\" height=\"24px\"viewBox=\"0 0 24 24\"\n",
              "     width=\"24px\">\n",
              "    <g>\n",
              "        <path d=\"M19 3H5c-1.1 0-2 .9-2 2v14c0 1.1.9 2 2 2h14c1.1 0 2-.9 2-2V5c0-1.1-.9-2-2-2zM9 17H7v-7h2v7zm4 0h-2V7h2v10zm4 0h-2v-4h2v4z\"/>\n",
              "    </g>\n",
              "</svg>\n",
              "  </button>\n",
              "\n",
              "<style>\n",
              "  .colab-df-quickchart {\n",
              "      --bg-color: #E8F0FE;\n",
              "      --fill-color: #1967D2;\n",
              "      --hover-bg-color: #E2EBFA;\n",
              "      --hover-fill-color: #174EA6;\n",
              "      --disabled-fill-color: #AAA;\n",
              "      --disabled-bg-color: #DDD;\n",
              "  }\n",
              "\n",
              "  [theme=dark] .colab-df-quickchart {\n",
              "      --bg-color: #3B4455;\n",
              "      --fill-color: #D2E3FC;\n",
              "      --hover-bg-color: #434B5C;\n",
              "      --hover-fill-color: #FFFFFF;\n",
              "      --disabled-bg-color: #3B4455;\n",
              "      --disabled-fill-color: #666;\n",
              "  }\n",
              "\n",
              "  .colab-df-quickchart {\n",
              "    background-color: var(--bg-color);\n",
              "    border: none;\n",
              "    border-radius: 50%;\n",
              "    cursor: pointer;\n",
              "    display: none;\n",
              "    fill: var(--fill-color);\n",
              "    height: 32px;\n",
              "    padding: 0;\n",
              "    width: 32px;\n",
              "  }\n",
              "\n",
              "  .colab-df-quickchart:hover {\n",
              "    background-color: var(--hover-bg-color);\n",
              "    box-shadow: 0 1px 2px rgba(60, 64, 67, 0.3), 0 1px 3px 1px rgba(60, 64, 67, 0.15);\n",
              "    fill: var(--button-hover-fill-color);\n",
              "  }\n",
              "\n",
              "  .colab-df-quickchart-complete:disabled,\n",
              "  .colab-df-quickchart-complete:disabled:hover {\n",
              "    background-color: var(--disabled-bg-color);\n",
              "    fill: var(--disabled-fill-color);\n",
              "    box-shadow: none;\n",
              "  }\n",
              "\n",
              "  .colab-df-spinner {\n",
              "    border: 2px solid var(--fill-color);\n",
              "    border-color: transparent;\n",
              "    border-bottom-color: var(--fill-color);\n",
              "    animation:\n",
              "      spin 1s steps(1) infinite;\n",
              "  }\n",
              "\n",
              "  @keyframes spin {\n",
              "    0% {\n",
              "      border-color: transparent;\n",
              "      border-bottom-color: var(--fill-color);\n",
              "      border-left-color: var(--fill-color);\n",
              "    }\n",
              "    20% {\n",
              "      border-color: transparent;\n",
              "      border-left-color: var(--fill-color);\n",
              "      border-top-color: var(--fill-color);\n",
              "    }\n",
              "    30% {\n",
              "      border-color: transparent;\n",
              "      border-left-color: var(--fill-color);\n",
              "      border-top-color: var(--fill-color);\n",
              "      border-right-color: var(--fill-color);\n",
              "    }\n",
              "    40% {\n",
              "      border-color: transparent;\n",
              "      border-right-color: var(--fill-color);\n",
              "      border-top-color: var(--fill-color);\n",
              "    }\n",
              "    60% {\n",
              "      border-color: transparent;\n",
              "      border-right-color: var(--fill-color);\n",
              "    }\n",
              "    80% {\n",
              "      border-color: transparent;\n",
              "      border-right-color: var(--fill-color);\n",
              "      border-bottom-color: var(--fill-color);\n",
              "    }\n",
              "    90% {\n",
              "      border-color: transparent;\n",
              "      border-bottom-color: var(--fill-color);\n",
              "    }\n",
              "  }\n",
              "</style>\n",
              "\n",
              "  <script>\n",
              "    async function quickchart(key) {\n",
              "      const quickchartButtonEl =\n",
              "        document.querySelector('#' + key + ' button');\n",
              "      quickchartButtonEl.disabled = true;  // To prevent multiple clicks.\n",
              "      quickchartButtonEl.classList.add('colab-df-spinner');\n",
              "      try {\n",
              "        const charts = await google.colab.kernel.invokeFunction(\n",
              "            'suggestCharts', [key], {});\n",
              "      } catch (error) {\n",
              "        console.error('Error during call to suggestCharts:', error);\n",
              "      }\n",
              "      quickchartButtonEl.classList.remove('colab-df-spinner');\n",
              "      quickchartButtonEl.classList.add('colab-df-quickchart-complete');\n",
              "    }\n",
              "    (() => {\n",
              "      let quickchartButtonEl =\n",
              "        document.querySelector('#df-0e3c9965-7927-400e-b058-0d41a2803fdf button');\n",
              "      quickchartButtonEl.style.display =\n",
              "        google.colab.kernel.accessAllowed ? 'block' : 'none';\n",
              "    })();\n",
              "  </script>\n",
              "</div>\n",
              "\n",
              "    </div>\n",
              "  </div>\n"
            ],
            "application/vnd.google.colaboratory.intrinsic+json": {
              "type": "dataframe",
              "variable_name": "df",
              "summary": "{\n  \"name\": \"df\",\n  \"rows\": 420,\n  \"fields\": [\n    {\n      \"column\": \"rownames\",\n      \"properties\": {\n        \"dtype\": \"number\",\n        \"std\": 121,\n        \"min\": 1,\n        \"max\": 420,\n        \"num_unique_values\": 420,\n        \"samples\": [\n          146,\n          335,\n          176\n        ],\n        \"semantic_type\": \"\",\n        \"description\": \"\"\n      }\n    },\n    {\n      \"column\": \"distcod\",\n      \"properties\": {\n        \"dtype\": \"number\",\n        \"std\": 3466,\n        \"min\": 61382,\n        \"max\": 75440,\n        \"num_unique_values\": 420,\n        \"samples\": [\n          68205,\n          71654,\n          63032\n        ],\n        \"semantic_type\": \"\",\n        \"description\": \"\"\n      }\n    },\n    {\n      \"column\": \"county\",\n      \"properties\": {\n        \"dtype\": \"category\",\n        \"num_unique_values\": 45,\n        \"samples\": [\n          \"Calaveras\",\n          \"Lake\",\n          \"Sutter\"\n        ],\n        \"semantic_type\": \"\",\n        \"description\": \"\"\n      }\n    },\n    {\n      \"column\": \"district\",\n      \"properties\": {\n        \"dtype\": \"string\",\n        \"num_unique_values\": 409,\n        \"samples\": [\n          \"Red Bluff Union Elementary\",\n          \"Banta Elementary\",\n          \"Bellevue Union Elementary\"\n        ],\n        \"semantic_type\": \"\",\n        \"description\": \"\"\n      }\n    },\n    {\n      \"column\": \"grspan\",\n      \"properties\": {\n        \"dtype\": \"category\",\n        \"num_unique_values\": 2,\n        \"samples\": [\n          \"KK-06\",\n          \"KK-08\"\n        ],\n        \"semantic_type\": \"\",\n        \"description\": \"\"\n      }\n    },\n    {\n      \"column\": \"enrltot\",\n      \"properties\": {\n        \"dtype\": \"number\",\n        \"std\": 3913,\n        \"min\": 81,\n        \"max\": 27176,\n        \"num_unique_values\": 391,\n        \"samples\": [\n          446,\n          6219\n        ],\n        \"semantic_type\": \"\",\n        \"description\": \"\"\n      }\n    },\n    {\n      \"column\": \"teachers\",\n      \"properties\": {\n        \"dtype\": \"number\",\n        \"std\": 187.91267943401368,\n        \"min\": 4.84999990463257,\n        \"max\": 1429.0,\n        \"num_unique_values\": 374,\n        \"samples\": [\n          16.2800006866455,\n          90.4000015258789\n        ],\n        \"semantic_type\": \"\",\n        \"description\": \"\"\n      }\n    },\n    {\n      \"column\": \"calwpct\",\n      \"properties\": {\n        \"dtype\": \"number\",\n        \"std\": 11.45482099030561,\n        \"min\": 0.0,\n        \"max\": 78.9942016601562,\n        \"num_unique_values\": 411,\n        \"samples\": [\n          20.6348991394043,\n          12.6920003890991\n        ],\n        \"semantic_type\": \"\",\n        \"description\": \"\"\n      }\n    },\n    {\n      \"column\": \"mealpct\",\n      \"properties\": {\n        \"dtype\": \"number\",\n        \"std\": 27.12338108135674,\n        \"min\": 0.0,\n        \"max\": 100.0,\n        \"num_unique_values\": 407,\n        \"samples\": [\n          86.0294036865234,\n          34.0360984802246\n        ],\n        \"semantic_type\": \"\",\n        \"description\": \"\"\n      }\n    },\n    {\n      \"column\": \"computer\",\n      \"properties\": {\n        \"dtype\": \"number\",\n        \"std\": 441,\n        \"min\": 0,\n        \"max\": 3324,\n        \"num_unique_values\": 270,\n        \"samples\": [\n          177,\n          4\n        ],\n        \"semantic_type\": \"\",\n        \"description\": \"\"\n      }\n    },\n    {\n      \"column\": \"testscr\",\n      \"properties\": {\n        \"dtype\": \"number\",\n        \"std\": 19.053347643618796,\n        \"min\": 605.550048828125,\n        \"max\": 706.75,\n        \"num_unique_values\": 379,\n        \"samples\": [\n          668.099975585937,\n          667.150024414062\n        ],\n        \"semantic_type\": \"\",\n        \"description\": \"\"\n      }\n    },\n    {\n      \"column\": \"compstu\",\n      \"properties\": {\n        \"dtype\": \"number\",\n        \"std\": 0.0649558101690213,\n        \"min\": 0.0,\n        \"max\": 0.420833319425583,\n        \"num_unique_values\": 412,\n        \"samples\": [\n          0.09441938996315,\n          0.0869951173663139\n        ],\n        \"semantic_type\": \"\",\n        \"description\": \"\"\n      }\n    },\n    {\n      \"column\": \"expnstu\",\n      \"properties\": {\n        \"dtype\": \"number\",\n        \"std\": 633.9370531095027,\n        \"min\": 3926.06958007812,\n        \"max\": 7711.5068359375,\n        \"num_unique_values\": 420,\n        \"samples\": [\n          5124.83642578125,\n          4357.826171875\n        ],\n        \"semantic_type\": \"\",\n        \"description\": \"\"\n      }\n    },\n    {\n      \"column\": \"str\",\n      \"properties\": {\n        \"dtype\": \"number\",\n        \"std\": 1.891811787233677,\n        \"min\": 14.0,\n        \"max\": 25.7999992370605,\n        \"num_unique_values\": 412,\n        \"samples\": [\n          20.7910938262939,\n          22.8952388763428\n        ],\n        \"semantic_type\": \"\",\n        \"description\": \"\"\n      }\n    },\n    {\n      \"column\": \"avginc\",\n      \"properties\": {\n        \"dtype\": \"number\",\n        \"std\": 7.225889763291426,\n        \"min\": 5.33500003814697,\n        \"max\": 55.3279991149902,\n        \"num_unique_values\": 337,\n        \"samples\": [\n          10.4720001220703,\n          11.9119997024536\n        ],\n        \"semantic_type\": \"\",\n        \"description\": \"\"\n      }\n    },\n    {\n      \"column\": \"elpct\",\n      \"properties\": {\n        \"dtype\": \"number\",\n        \"std\": 18.28592746747183,\n        \"min\": 0.0,\n        \"max\": 85.5397186279297,\n        \"num_unique_values\": 372,\n        \"samples\": [\n          1.68350172042847,\n          49.823070526123\n        ],\n        \"semantic_type\": \"\",\n        \"description\": \"\"\n      }\n    },\n    {\n      \"column\": \"readscr\",\n      \"properties\": {\n        \"dtype\": \"number\",\n        \"std\": 20.107980021196386,\n        \"min\": 604.5,\n        \"max\": 704.0,\n        \"num_unique_values\": 322,\n        \"samples\": [\n          650.0,\n          650.799987792969\n        ],\n        \"semantic_type\": \"\",\n        \"description\": \"\"\n      }\n    },\n    {\n      \"column\": \"mathscr\",\n      \"properties\": {\n        \"dtype\": \"number\",\n        \"std\": 18.75420217300789,\n        \"min\": 605.400024414062,\n        \"max\": 709.5,\n        \"num_unique_values\": 324,\n        \"samples\": [\n          646.099975585938,\n          645.099975585937\n        ],\n        \"semantic_type\": \"\",\n        \"description\": \"\"\n      }\n    }\n  ]\n}"
            }
          },
          "metadata": {},
          "execution_count": 2
        }
      ]
    },
    {
      "cell_type": "markdown",
      "source": [
        "###QUICK VISUALS"
      ],
      "metadata": {
        "id": "1NnGP5GHDIUv"
      }
    },
    {
      "cell_type": "code",
      "source": [
        "y = df['testscr']\n",
        "\n",
        "# Scatter plot for 'teachers' vs. target\n",
        "plt.figure(figsize=(8, 6))\n",
        "plt.scatter(df['teachers'],y , alpha=0.5)\n",
        "plt.title('Dependency of Target on Number of Teachers')\n",
        "plt.xlabel('Number of Teachers')\n",
        "plt.ylabel('Target')\n",
        "plt.grid()\n",
        "plt.show()\n",
        "\n",
        "# Scatter plot for 'avginc' vs. target\n",
        "plt.figure(figsize=(8, 6))\n",
        "plt.scatter(df['avginc'], y, alpha=0.5)\n",
        "plt.title('Dependency of Target on Average Income')\n",
        "plt.xlabel('Average Income')\n",
        "plt.ylabel('Target')\n",
        "plt.grid()\n",
        "plt.show()\n",
        "\n",
        "# Scatter plot for 'elpct' vs. target\n",
        "plt.figure(figsize=(8, 6))\n",
        "plt.scatter(df['elpct'], y, alpha=0.5)\n",
        "plt.title('Dependency of Target on ELPCT')\n",
        "plt.xlabel('ELPCT Percentage')\n",
        "plt.ylabel('Target')\n",
        "plt.grid()\n",
        "plt.show()\n"
      ],
      "metadata": {
        "colab": {
          "base_uri": "https://localhost:8080/",
          "height": 207
        },
        "id": "cRvSMoZFDKKq",
        "outputId": "6a083e25-ea05-44ab-8ac5-6634b0bb8a4b"
      },
      "execution_count": null,
      "outputs": [
        {
          "output_type": "error",
          "ename": "NameError",
          "evalue": "name 'df' is not defined",
          "traceback": [
            "\u001b[0;31m---------------------------------------------------------------------------\u001b[0m",
            "\u001b[0;31mNameError\u001b[0m                                 Traceback (most recent call last)",
            "\u001b[0;32m<ipython-input-1-85d16e0f8a35>\u001b[0m in \u001b[0;36m<cell line: 1>\u001b[0;34m()\u001b[0m\n\u001b[0;32m----> 1\u001b[0;31m \u001b[0my\u001b[0m \u001b[0;34m=\u001b[0m \u001b[0mdf\u001b[0m\u001b[0;34m[\u001b[0m\u001b[0;34m'testscr'\u001b[0m\u001b[0;34m]\u001b[0m\u001b[0;34m\u001b[0m\u001b[0;34m\u001b[0m\u001b[0m\n\u001b[0m\u001b[1;32m      2\u001b[0m \u001b[0;34m\u001b[0m\u001b[0m\n\u001b[1;32m      3\u001b[0m \u001b[0;31m# Scatter plot for 'teachers' vs. target\u001b[0m\u001b[0;34m\u001b[0m\u001b[0;34m\u001b[0m\u001b[0m\n\u001b[1;32m      4\u001b[0m \u001b[0mplt\u001b[0m\u001b[0;34m.\u001b[0m\u001b[0mfigure\u001b[0m\u001b[0;34m(\u001b[0m\u001b[0mfigsize\u001b[0m\u001b[0;34m=\u001b[0m\u001b[0;34m(\u001b[0m\u001b[0;36m8\u001b[0m\u001b[0;34m,\u001b[0m \u001b[0;36m6\u001b[0m\u001b[0;34m)\u001b[0m\u001b[0;34m)\u001b[0m\u001b[0;34m\u001b[0m\u001b[0;34m\u001b[0m\u001b[0m\n\u001b[1;32m      5\u001b[0m \u001b[0mplt\u001b[0m\u001b[0;34m.\u001b[0m\u001b[0mscatter\u001b[0m\u001b[0;34m(\u001b[0m\u001b[0mdf\u001b[0m\u001b[0;34m[\u001b[0m\u001b[0;34m'teachers'\u001b[0m\u001b[0;34m]\u001b[0m\u001b[0;34m,\u001b[0m\u001b[0my\u001b[0m \u001b[0;34m,\u001b[0m \u001b[0malpha\u001b[0m\u001b[0;34m=\u001b[0m\u001b[0;36m0.5\u001b[0m\u001b[0;34m)\u001b[0m\u001b[0;34m\u001b[0m\u001b[0;34m\u001b[0m\u001b[0m\n",
            "\u001b[0;31mNameError\u001b[0m: name 'df' is not defined"
          ]
        }
      ]
    },
    {
      "cell_type": "markdown",
      "source": [
        "## Data prep."
      ],
      "metadata": {
        "id": "gtDfMRB2xJ0L"
      }
    },
    {
      "cell_type": "markdown",
      "source": [
        "###Split the data into training and test sets.\n",
        "\n"
      ],
      "metadata": {
        "id": "wli2MJGjRBDy"
      }
    },
    {
      "cell_type": "code",
      "source": [
        "y = df['testscr']\n",
        "X = df.loc[:, df.columns.isin(['tenrltot', 'teachers', 'calwpct','mealpct','computer','expnstu','avginc','elpct'])]\n",
        "#Train test split\n",
        "from sklearn.model_selection import train_test_split\n",
        "\n",
        "# Use train_test_split(X,y) to create four new data sets, defaults to .75/.25 split\n",
        "X_train, X_test, y_train, y_test = train_test_split(X, y)\n",
        "\n",
        "print(X.shape)\n",
        "X_train.shape"
      ],
      "metadata": {
        "colab": {
          "base_uri": "https://localhost:8080/"
        },
        "id": "ZY62YX30RAha",
        "outputId": "e07d7ead-563f-4e40-b2ff-ff8d0e0b60c1"
      },
      "execution_count": null,
      "outputs": [
        {
          "output_type": "stream",
          "name": "stdout",
          "text": [
            "(420, 7)\n"
          ]
        },
        {
          "output_type": "execute_result",
          "data": {
            "text/plain": [
              "(315, 7)"
            ]
          },
          "metadata": {},
          "execution_count": 4
        }
      ]
    },
    {
      "cell_type": "markdown",
      "source": [
        "###Scale the data with StandardScaler()"
      ],
      "metadata": {
        "id": "eCg1ptwYjQyD"
      }
    },
    {
      "cell_type": "code",
      "source": [
        "from sklearn import preprocessing\n",
        "\n",
        "\n",
        "scaler = preprocessing.StandardScaler().fit(X_train)\n",
        "# Here we apply the fit standard scaler to the X_train data using transform()\n",
        "X_train_scaled= scaler.transform(X_train)\n",
        "# apply the same scaler to x_test\n",
        "X_test_scaled=scaler.transform(X_test)"
      ],
      "metadata": {
        "id": "O80mOSFmfN00"
      },
      "execution_count": null,
      "outputs": []
    },
    {
      "cell_type": "markdown",
      "source": [
        "## Regressions"
      ],
      "metadata": {
        "id": "yPfYyjvTxYE0"
      }
    },
    {
      "cell_type": "markdown",
      "source": [
        "###KNN Regression with cross validation\n"
      ],
      "metadata": {
        "id": "kOfz3B76lA4G"
      }
    },
    {
      "cell_type": "code",
      "source": [
        "from sklearn.model_selection import cross_val_score\n",
        "from sklearn.neighbors import KNeighborsRegressor\n",
        "from statistics import mean\n",
        "from sklearn.model_selection import KFold\n",
        "\n",
        "\n",
        "# KNeighborsRegressor cross-validation\n",
        "kfold = KFold(n_splits=5)\n",
        "print(\"KFold KNeighborsRegressor:\\n{}\".format(\n",
        "    mean(cross_val_score(KNeighborsRegressor(n_neighbors=5), X_train_scaled, y_train, cv=kfold))\n",
        "))\n"
      ],
      "metadata": {
        "colab": {
          "base_uri": "https://localhost:8080/"
        },
        "id": "oI-BjkuPYs6C",
        "outputId": "7fd4a4ee-eaf9-4f37-84ab-cba49506696c"
      },
      "execution_count": null,
      "outputs": [
        {
          "output_type": "stream",
          "name": "stdout",
          "text": [
            "KFold KNeighborsRegressor:\n",
            "0.7366337801498831\n"
          ]
        }
      ]
    },
    {
      "cell_type": "markdown",
      "source": [
        "### Linear Regression"
      ],
      "metadata": {
        "id": "1VXbIz2hbOkT"
      }
    },
    {
      "cell_type": "code",
      "source": [
        "from sklearn.linear_model import LinearRegression\n",
        "\n",
        "\n",
        "# lr.fit(X_train, y_train)# training the model - but this step is included in the CV\n",
        "\n",
        "\n",
        "# Linear Regression cross-validation\n",
        "print('Linear Regression score:')\n",
        "print(np.mean(cross_val_score(LinearRegression(), X_train_scaled, y_train, cv=10, scoring=\"r2\")))"
      ],
      "metadata": {
        "colab": {
          "base_uri": "https://localhost:8080/"
        },
        "id": "5Mp9T2nabNP9",
        "outputId": "950a2c98-8ef5-4d07-9827-b23a17b542a3"
      },
      "execution_count": null,
      "outputs": [
        {
          "output_type": "stream",
          "name": "stdout",
          "text": [
            "Linear Regression score:\n",
            "0.7813560534737085\n"
          ]
        }
      ]
    },
    {
      "cell_type": "markdown",
      "source": [
        "###Ridge Regression"
      ],
      "metadata": {
        "id": "mxzgpYMzkzFF"
      }
    },
    {
      "cell_type": "code",
      "source": [
        "from sklearn.linear_model import Ridge\n",
        "\n",
        "# Ridge Regression cross-validation\n",
        "ridge = Ridge()  # Initialize Ridge regression model\n",
        "ridge_cv_scores = cross_val_score(ridge, X_train_scaled, y_train, cv=5, scoring='r2')\n",
        "print(\"Ridge Regression - Average R² (5-fold CV):\", mean(ridge_cv_scores))\n",
        "\n"
      ],
      "metadata": {
        "colab": {
          "base_uri": "https://localhost:8080/"
        },
        "id": "ARGQ6WZc0TmH",
        "outputId": "b9485a36-cbf9-4a2c-811e-56b8099f99fb"
      },
      "execution_count": null,
      "outputs": [
        {
          "output_type": "stream",
          "name": "stdout",
          "text": [
            "Ridge Regression - Average R² (5-fold CV): 0.7830235889476438\n"
          ]
        }
      ]
    },
    {
      "cell_type": "markdown",
      "source": [
        "###Lasso Regression"
      ],
      "metadata": {
        "id": "We-BoHx0laTx"
      }
    },
    {
      "cell_type": "code",
      "source": [
        "from sklearn.linear_model import Lasso\n",
        "# Lasso Regression cross-validation\n",
        "lasso = Lasso()  # Initialize Lasso regression model\n",
        "lasso_cv_scores = cross_val_score(lasso, X_train_scaled, y_train, cv=5, scoring='r2')\n",
        "print(\"Lasso Regression - Average R² (5-fold CV):\", mean(lasso_cv_scores))"
      ],
      "metadata": {
        "colab": {
          "base_uri": "https://localhost:8080/"
        },
        "id": "-fjZDPp7lecC",
        "outputId": "7a2dda96-d366-4cae-8b6d-2290605b6ff1"
      },
      "execution_count": null,
      "outputs": [
        {
          "output_type": "stream",
          "name": "stdout",
          "text": [
            "Lasso Regression - Average R² (5-fold CV): 0.7834671842802633\n"
          ]
        }
      ]
    },
    {
      "cell_type": "markdown",
      "source": [
        "##Tune the parameters of the models where possible using GridSearchCV"
      ],
      "metadata": {
        "id": "aq_beNWPliQJ"
      }
    },
    {
      "cell_type": "code",
      "source": [
        "from sklearn.model_selection import GridSearchCV\n",
        "\n",
        "# KNeighborsRegressor Grid Search\n",
        "knn_param_grid = {'n_neighbors': [3, 5, 7, 9]}  # Example grid\n",
        "knn_grid_search = GridSearchCV(KNeighborsRegressor(), knn_param_grid, cv=5, scoring='r2')\n",
        "knn_grid_search.fit(X_train_scaled, y_train)\n",
        "print(f\"KNeighborsRegressor best parameters: {knn_grid_search.best_params_}\")\n",
        "print(f\"KNeighborsRegressor best cross-validation score: {knn_grid_search.best_score_}\")\n",
        "\n",
        "# Linear Regression (No hyperparameters to tune)\n",
        "\n",
        "# Ridge Regression Grid Search\n",
        "ridge_param_grid = {'alpha': [0.1, 1.0, 10.0]}  # Example grid for regularization strength\n",
        "ridge_grid_search = GridSearchCV(Ridge(), ridge_param_grid, cv=5, scoring='r2')\n",
        "ridge_grid_search.fit(X_train_scaled, y_train)\n",
        "print(f\"Ridge Regression best parameters: {ridge_grid_search.best_params_}\")\n",
        "print(f\"Ridge Regression best cross-validation score: {ridge_grid_search.best_score_}\")\n",
        "\n",
        "# Lasso Regression Grid Search\n",
        "lasso_param_grid = {'alpha': [0.1, 1.0, 10.0]}  # Example grid for regularization strength\n",
        "lasso_grid_search = GridSearchCV(Lasso(), lasso_param_grid, cv=5, scoring='r2')\n",
        "lasso_grid_search.fit(X_train_scaled, y_train)\n",
        "print(f\"Lasso Regression best parameters: {lasso_grid_search.best_params_}\")\n",
        "print(f\"Lasso Regression best cross-validation score: {lasso_grid_search.best_score_}\")"
      ],
      "metadata": {
        "colab": {
          "base_uri": "https://localhost:8080/"
        },
        "id": "QI7EQgrkB-gx",
        "outputId": "521d8baf-eef3-444c-bd87-700b7bfd29ba"
      },
      "execution_count": null,
      "outputs": [
        {
          "output_type": "stream",
          "name": "stdout",
          "text": [
            "KNeighborsRegressor best parameters: {'n_neighbors': 7}\n",
            "KNeighborsRegressor best cross-validation score: 0.7503495515818971\n",
            "Ridge Regression best parameters: {'alpha': 10.0}\n",
            "Ridge Regression best cross-validation score: 0.7852210261354406\n",
            "Lasso Regression best parameters: {'alpha': 0.1}\n",
            "Lasso Regression best cross-validation score: 0.7851332591703392\n"
          ]
        }
      ]
    },
    {
      "cell_type": "markdown",
      "source": [
        "\n",
        "###Compare the coefficients of Lasso and Ridge."
      ],
      "metadata": {
        "id": "HAz3QlKM5loY"
      }
    },
    {
      "cell_type": "code",
      "source": [
        "# Ridge Regression\n",
        "ridge = Ridge()  # Initialize Ridge regression model\n",
        "ridge.fit(X_train_scaled, y_train)  # Fit the model\n",
        "ridge_cv_scores = cross_val_score(ridge, X_train_scaled, y_train, cv=5, scoring='r2')\n",
        "print(\"Ridge Regression - Average R² (5-fold CV):\", mean(ridge_cv_scores))\n",
        "\n",
        "# Get coefficients for Ridge\n",
        "if hasattr(X_train, 'columns'):\n",
        "    feature_names = X_train.columns\n",
        "else:\n",
        "    feature_names = np.arange(X_train_scaled.shape[1])\n",
        "\n",
        "# Print Ridge coefficients\n",
        "print(\"\\nRidge Regression Coefficients:\")\n",
        "for name, coef in zip(feature_names, ridge.coef_):\n",
        "    print(f\"Feature: {name}, Coefficient: {coef:.4f}\")\n",
        "\n",
        "# Lasso Regression\n",
        "lasso = Lasso()  # Initialize Lasso regression model\n",
        "lasso.fit(X_train_scaled, y_train)  # Fit the model\n",
        "lasso_cv_scores = cross_val_score(lasso, X_train_scaled, y_train, cv=5, scoring='r2')\n",
        "print(\"Lasso Regression - Average R² (5-fold CV):\", mean(lasso_cv_scores))\n",
        "\n",
        "# Get coefficients for Lasso\n",
        "# Print Lasso coefficients\n",
        "print(\"\\nLasso Regression Coefficients:\")\n",
        "for name, coef in zip(feature_names, lasso.coef_):\n",
        "    print(f\"Feature: {name}, Coefficient: {coef:.4f}\")\n"
      ],
      "metadata": {
        "colab": {
          "base_uri": "https://localhost:8080/"
        },
        "id": "AOYcGI8y5kBM",
        "outputId": "2f158279-e48c-4b98-c344-202fd7513b0a"
      },
      "execution_count": null,
      "outputs": [
        {
          "output_type": "stream",
          "name": "stdout",
          "text": [
            "Ridge Regression - Average R² (5-fold CV): 0.7830235889476438\n",
            "\n",
            "Ridge Regression Coefficients:\n",
            "Feature: teachers, Coefficient: -1.0359\n",
            "Feature: calwpct, Coefficient: -0.5278\n",
            "Feature: mealpct, Coefficient: -10.3472\n",
            "Feature: computer, Coefficient: 0.7644\n",
            "Feature: expnstu, Coefficient: 1.6365\n",
            "Feature: avginc, Coefficient: 4.7980\n",
            "Feature: elpct, Coefficient: -3.5414\n",
            "Lasso Regression - Average R² (5-fold CV): 0.7834671842802633\n",
            "\n",
            "Lasso Regression Coefficients:\n",
            "Feature: teachers, Coefficient: -0.0000\n",
            "Feature: calwpct, Coefficient: -0.0000\n",
            "Feature: mealpct, Coefficient: -10.7035\n",
            "Feature: computer, Coefficient: -0.0000\n",
            "Feature: expnstu, Coefficient: 0.8139\n",
            "Feature: avginc, Coefficient: 4.3777\n",
            "Feature: elpct, Coefficient: -2.8095\n"
          ]
        }
      ]
    },
    {
      "cell_type": "markdown",
      "source": [
        "#Part B: Classification on red and white wine characteristics\n"
      ],
      "metadata": {
        "id": "52EDUQb_M-J8"
      }
    },
    {
      "cell_type": "code",
      "source": [
        "red=pd.read_csv('https://archive.ics.uci.edu/ml/machine-learning-databases/wine-quality/winequality-white.csv',sep=';')\n",
        "white=pd.read_csv('https://archive.ics.uci.edu/ml/machine-learning-databases/wine-quality/winequality-red.csv',sep=';')"
      ],
      "metadata": {
        "id": "2oM7s39RNEyc"
      },
      "execution_count": null,
      "outputs": []
    },
    {
      "cell_type": "markdown",
      "source": [
        "## Prep Data and EDA"
      ],
      "metadata": {
        "id": "FQjWFosuNasz"
      }
    },
    {
      "cell_type": "code",
      "source": [
        "red['winetype'] = 1\n",
        "white['winetype'] = 0\n",
        "wine = pd.concat([red, white], axis=0, ignore_index=True)\n",
        "wine.reset_index(drop=True, inplace=True)\n",
        "wine.head()\n",
        "target=wine['winetype']\n"
      ],
      "metadata": {
        "id": "F4mgWmbINcYz"
      },
      "execution_count": null,
      "outputs": []
    },
    {
      "cell_type": "code",
      "source": [
        "\n",
        "plt.figure()\n",
        "target.hist(bins=30)\n",
        "plt.xlabel('wine type')\n",
        "plt.ylabel('Frequency')\n",
        "plt.show()\n",
        "\n",
        "\n",
        "plt.figure()\n",
        "wine['citric acid'].hist(bins=30)\n",
        "plt.xlabel('citric acid')\n",
        "plt.ylabel('Frequency')\n",
        "plt.show()\n",
        "\n",
        "plt.figure()\n",
        "wine['pH'].hist(bins=30)\n",
        "plt.xlabel('pH')\n",
        "plt.ylabel('Frequency')\n",
        "plt.show()\n",
        "\n",
        "\n",
        "plt.figure()\n",
        "wine['density'].hist(bins=30)\n",
        "plt.xlabel('density')\n",
        "plt.ylabel('Frequency')\n",
        "plt.show()"
      ],
      "metadata": {
        "colab": {
          "base_uri": "https://localhost:8080/",
          "height": 1000
        },
        "id": "mmQAbkIsUzCw",
        "outputId": "82698355-f374-4121-b068-24c210e94ffd"
      },
      "execution_count": null,
      "outputs": [
        {
          "output_type": "display_data",
          "data": {
            "text/plain": [
              "<Figure size 640x480 with 1 Axes>"
            ],
            "image/png": "[encoded data removed]"
          },
          "metadata": {}
        },
        {
          "output_type": "display_data",
          "data": {
            "text/plain": [
              "<Figure size 640x480 with 1 Axes>"
            ],
            "image/png": "[encoded data removed]"
          },
          "metadata": {}
        },
        {
          "output_type": "display_data",
          "data": {
            "text/plain": [
              "<Figure size 640x480 with 1 Axes>"
            ],
            "image/png": "[encoded data removed]"
          },
          "metadata": {}
        },
        {
          "output_type": "display_data",
          "data": {
            "text/plain": [
              "<Figure size 640x480 with 1 Axes>"
            ],
            "image/png": "[encoded data removed]"
          },
          "metadata": {}
        }
      ]
    },
    {
      "cell_type": "markdown",
      "source": [
        "##Split data into training and test sets.\n"
      ],
      "metadata": {
        "id": "mM-OsSglXHOs"
      }
    },
    {
      "cell_type": "code",
      "source": [
        "x2 = wine.loc[:, ~wine.columns.isin(['winetype'])]\n",
        "\n",
        "# Use train_test_split(X,y) to create four new data sets, defaults to .75/.25 split\n",
        "X2_train, X2_test, y2_train, y2_test = train_test_split(x2, target, random_state=42)"
      ],
      "metadata": {
        "id": "Mxk5V76JXG3l"
      },
      "execution_count": null,
      "outputs": []
    },
    {
      "cell_type": "markdown",
      "source": [
        "## StandardScaler"
      ],
      "metadata": {
        "id": "ByE5NtAoiq23"
      }
    },
    {
      "cell_type": "code",
      "source": [
        "\n",
        "scaler = preprocessing.StandardScaler().fit(X2_train)\n",
        "# Here we apply the fit standard scaler to the X_train data using transform()\n",
        "X2_train_scaled= scaler.transform(X2_train)\n",
        "# apply the same scaler to x_test\n",
        "X2_test_scaled=scaler.transform(X2_test)"
      ],
      "metadata": {
        "id": "SH3t51bIf8SC"
      },
      "execution_count": null,
      "outputs": []
    },
    {
      "cell_type": "code",
      "source": [
        "#not penalized logisitic regression:\n",
        "from sklearn.linear_model import LogisticRegression\n",
        "\n",
        "print('log reg non penalized:')\n",
        "logreg = LogisticRegression(penalty=None, max_iter=1000)\n",
        "# Perform 5-fold cross-validation (or any number of folds you want) using accuracy as the scoring metric\n",
        "cv2_scores = cross_val_score(logreg, X2_train_scaled, y2_train, cv=5, scoring='accuracy')\n",
        "print(\">>Mean cross-validation score: {:.4f}\".format(mean(cv2_scores)))\n",
        "\n",
        "\n",
        "\n",
        "\n",
        "#Logistic Regression penalized:\n",
        "from sklearn.linear_model import LogisticRegression\n",
        "print('log reg penalized:')\n",
        "logreg = LogisticRegression(penalty='l2', max_iter=1000)\n",
        "cv3_scores = cross_val_score(logreg, X2_train_scaled, y2_train, cv=5, scoring='accuracy')\n",
        "print(\">>Mean cross-validation score: {:.4f}\".format(mean(cv3_scores)))\n",
        "\n",
        "\n",
        "\n",
        "#KNN with CV\n",
        "from sklearn.neighbors import KNeighborsClassifier  # Classification instead of regression\n",
        "from sklearn.model_selection import cross_val_score, KFold, RepeatedKFold\n",
        "\n",
        "kfold = KFold(n_splits=5)\n",
        "rkf = RepeatedKFold(n_splits=5, n_repeats=10)\n",
        "print(\"Knn: KFold (Classification):\\n{}\".format(mean(cross_val_score(KNeighborsClassifier(n_neighbors=5), X2_train_scaled, y2_train, cv=kfold))))\n",
        "\n",
        "\n"
      ],
      "metadata": {
        "colab": {
          "base_uri": "https://localhost:8080/"
        },
        "id": "kg4xmsDljVe-",
        "outputId": "308b7a92-d351-49d8-f55a-72542cce08d4"
      },
      "execution_count": null,
      "outputs": [
        {
          "output_type": "stream",
          "name": "stdout",
          "text": [
            "log reg non penalized:\n",
            ">>Mean cross-validation score: 0.9936\n",
            "log reg penalized:\n",
            ">>Mean cross-validation score: 0.9934\n",
            "Knn: KFold (Classification):\n",
            "0.9930210077396936\n"
          ]
        }
      ]
    },
    {
      "cell_type": "markdown",
      "source": [
        "##Tune the parameters of the models where possible using GridSearchCV."
      ],
      "metadata": {
        "id": "atywAxOsCzFn"
      }
    },
    {
      "cell_type": "code",
      "source": [
        "from sklearn.model_selection import GridSearchCV\n",
        "para_grid={'n_neighbors': np.arange(1, 15,2)}\n",
        "knn_grid=GridSearchCV(KNeighborsClassifier(),para_grid,cv=5,scoring='accuracy')\n",
        "knn_grid.fit(X2_train_scaled,y2_train)\n",
        "\n",
        "print(knn_grid.best_params_)\n",
        "print(knn_grid.best_score_)"
      ],
      "metadata": {
        "colab": {
          "base_uri": "https://localhost:8080/"
        },
        "id": "zNCuTN3rDko1",
        "outputId": "214233c9-dc14-4080-e392-01654190d99e"
      },
      "execution_count": null,
      "outputs": [
        {
          "output_type": "stream",
          "name": "stdout",
          "text": [
            "{'n_neighbors': 13}\n",
            "0.9932261359448219\n"
          ]
        }
      ]
    },
    {
      "cell_type": "code",
      "source": [
        "# Logistic Regression\n",
        "logreg_param_grid = {\n",
        "      # Different types of penalties\n",
        "    'C': [0.01 ,0.1, 1, 10,100 ]  # Regularization strength (inverse)\n",
        "    }\n",
        "\n",
        "logreg_grid = GridSearchCV(LogisticRegression(), logreg_param_grid, cv=5, scoring='accuracy')\n",
        "logreg_grid.fit(X2_train_scaled, y2_train)\n",
        "\n",
        "print('Logistic Regression:')\n",
        "print(f\"Best parameters: {logreg_grid.best_params_}\")\n",
        "print(f\"Best cross-validation score: {logreg_grid.best_score_}\")\n"
      ],
      "metadata": {
        "colab": {
          "base_uri": "https://localhost:8080/"
        },
        "id": "oC6IIQr1Y0w2",
        "outputId": "c318677d-db7d-41a4-e4df-e1d5882f50a3"
      },
      "execution_count": null,
      "outputs": [
        {
          "output_type": "stream",
          "name": "stdout",
          "text": [
            "Logistic Regression:\n",
            "Best parameters: {'C': 100}\n",
            "Best cross-validation score: 0.9936366029589848\n"
          ]
        }
      ]
    },
    {
      "cell_type": "code",
      "source": [
        "\n",
        "# Logistic Regression\n",
        "logreg_param_grid = {\n",
        "    'penalty': ['l1', 'l2', 'elasticnet'],  # Different types of penalties\n",
        "    'C': [.01 ,0.1, 1, 10,100]  # Regularization strength (inverse)\n",
        "    }\n",
        "\n",
        "logreg_grid = GridSearchCV(LogisticRegression(), logreg_param_grid, cv=5, scoring='accuracy')\n",
        "logreg_grid.fit(X2_train_scaled, y2_train)\n",
        "\n",
        "print('Logistic Regression:')\n",
        "print(f\"Best parameters: {logreg_grid.best_params_}\")\n",
        "print(f\"Best cross-validation score: {logreg_grid.best_score_}\")\n",
        "\n",
        "\n"
      ],
      "metadata": {
        "colab": {
          "base_uri": "https://localhost:8080/"
        },
        "id": "CrUNM4SmjYVM",
        "outputId": "0a430600-92de-4ae1-ed57-84f839d97ded"
      },
      "execution_count": null,
      "outputs": [
        {
          "output_type": "stream",
          "name": "stdout",
          "text": [
            "Logistic Regression:\n",
            "Best parameters: {'C': 100, 'penalty': 'l2'}\n",
            "Best cross-validation score: 0.9936366029589848\n"
          ]
        },
        {
          "output_type": "stream",
          "name": "stderr",
          "text": [
            "/usr/local/lib/python3.10/dist-packages/sklearn/model_selection/_validation.py:540: FitFailedWarning: \n",
            "50 fits failed out of a total of 75.\n",
            "The score on these train-test partitions for these parameters will be set to nan.\n",
            "If these failures are not expected, you can try to debug them by setting error_score='raise'.\n",
            "\n",
            "Below are more details about the failures:\n",
            "--------------------------------------------------------------------------------\n",
            "25 fits failed with the following error:\n",
            "Traceback (most recent call last):\n",
            "  File \"/usr/local/lib/python3.10/dist-packages/sklearn/model_selection/_validation.py\", line 888, in _fit_and_score\n",
            "    estimator.fit(X_train, y_train, **fit_params)\n",
            "  File \"/usr/local/lib/python3.10/dist-packages/sklearn/base.py\", line 1473, in wrapper\n",
            "    return fit_method(estimator, *args, **kwargs)\n",
            "  File \"/usr/local/lib/python3.10/dist-packages/sklearn/linear_model/_logistic.py\", line 1194, in fit\n",
            "    solver = _check_solver(self.solver, self.penalty, self.dual)\n",
            "  File \"/usr/local/lib/python3.10/dist-packages/sklearn/linear_model/_logistic.py\", line 67, in _check_solver\n",
            "    raise ValueError(\n",
            "ValueError: Solver lbfgs supports only 'l2' or None penalties, got l1 penalty.\n",
            "\n",
            "--------------------------------------------------------------------------------\n",
            "25 fits failed with the following error:\n",
            "Traceback (most recent call last):\n",
            "  File \"/usr/local/lib/python3.10/dist-packages/sklearn/model_selection/_validation.py\", line 888, in _fit_and_score\n",
            "    estimator.fit(X_train, y_train, **fit_params)\n",
            "  File \"/usr/local/lib/python3.10/dist-packages/sklearn/base.py\", line 1473, in wrapper\n",
            "    return fit_method(estimator, *args, **kwargs)\n",
            "  File \"/usr/local/lib/python3.10/dist-packages/sklearn/linear_model/_logistic.py\", line 1194, in fit\n",
            "    solver = _check_solver(self.solver, self.penalty, self.dual)\n",
            "  File \"/usr/local/lib/python3.10/dist-packages/sklearn/linear_model/_logistic.py\", line 67, in _check_solver\n",
            "    raise ValueError(\n",
            "ValueError: Solver lbfgs supports only 'l2' or None penalties, got elasticnet penalty.\n",
            "\n",
            "  warnings.warn(some_fits_failed_message, FitFailedWarning)\n",
            "/usr/local/lib/python3.10/dist-packages/sklearn/model_selection/_search.py:1103: UserWarning: One or more of the test scores are non-finite: [       nan 0.98912189        nan        nan 0.99158427        nan\n",
            "        nan 0.99343105        nan        nan 0.99343126        nan\n",
            "        nan 0.9936366         nan]\n",
            "  warnings.warn(\n"
          ]
        }
      ]
    },
    {
      "cell_type": "markdown",
      "source": [
        "▶ Based on the result, we can see that it provides a similar outcome to the original regression before performing the grid search. However, since the original scores were already quite high (around 99%), this consistency in the result is understandable and expected."
      ],
      "metadata": {
        "id": "uDc8ZMYCZVjl"
      }
    },
    {
      "cell_type": "markdown",
      "source": [
        "###Compare the coefficients for Logistic Regression and Penalized Logistic Regression"
      ],
      "metadata": {
        "id": "cF4nUtU0FCh_"
      }
    },
    {
      "cell_type": "code",
      "source": [
        "\n",
        "# Fit your model (e.g., Logistic Regression)\n",
        "logreg = LogisticRegression(penalty='l2', max_iter=1000)\n",
        "logreg.fit(X2_train_scaled, y2_train)\n",
        "\n",
        "# Assuming X2_train is a DataFrame and has column names\n",
        "feature_names = X2_train.columns  # Get the column names from the original DataFrame\n",
        "\n",
        "# Print the coefficients with their corresponding feature names\n",
        "coefficients = logreg.coef_[0]  # coef_ returns a 2D array, take the first row if binary classification\n",
        "for feature, coef in zip(feature_names, coefficients):\n",
        "    print(f\"{feature}: {coef}\")\n"
      ],
      "metadata": {
        "colab": {
          "base_uri": "https://localhost:8080/"
        },
        "id": "l3_hC-IxDfwx",
        "outputId": "5d1d4ffc-66ff-4901-9723-4b540c576c4d"
      },
      "execution_count": null,
      "outputs": [
        {
          "output_type": "stream",
          "name": "stdout",
          "text": [
            "fixed acidity: -0.3823375086491316\n",
            "volatile acidity: -1.2868908952407139\n",
            "citric acid: 0.3653157573569147\n",
            "residual sugar: 3.5347298570880636\n",
            "chlorides: -0.8009494497447539\n",
            "free sulfur dioxide: -0.9132636421822659\n",
            "total sulfur dioxide: 2.9122833106573687\n",
            "density: -3.4523242267872316\n",
            "pH: -0.3385225231804791\n",
            "sulphates: -0.6484472655829139\n",
            "alcohol: -1.1813566088053824\n",
            "quality: -0.1681438618916688\n"
          ]
        }
      ]
    },
    {
      "cell_type": "code",
      "source": [
        "# Fit your model (e.g., Logistic Regression)\n",
        "logreg = LogisticRegression(penalty=None, max_iter=1000)\n",
        "logreg.fit(X2_train_scaled, y2_train)\n",
        "\n",
        "# Assuming X2_train is a DataFrame and has column names\n",
        "feature_names = X2_train.columns  # Get the column names from the original DataFrame\n",
        "\n",
        "# Print the coefficients with their corresponding feature names\n",
        "coefficients = logreg.coef_[0]  # coef_ returns a 2D array, take the first row if binary classification\n",
        "for feature, coef in zip(feature_names, coefficients):\n",
        "    print(f\"{feature}: {coef}\")\n"
      ],
      "metadata": {
        "colab": {
          "base_uri": "https://localhost:8080/"
        },
        "id": "_DOoSo8WGaOb",
        "outputId": "dd7381cc-372f-474e-c48f-e9926f2f3980"
      },
      "execution_count": null,
      "outputs": [
        {
          "output_type": "stream",
          "name": "stdout",
          "text": [
            "fixed acidity: 0.35632040955947253\n",
            "volatile acidity: -1.169434990618122\n",
            "citric acid: 0.47646879346258103\n",
            "residual sugar: 5.676663880154608\n",
            "chlorides: -0.7714793516225169\n",
            "free sulfur dioxide: -1.4423494254276918\n",
            "total sulfur dioxide: 3.34200522406662\n",
            "density: -5.695553501388688\n",
            "pH: 0.2647652828373186\n",
            "sulphates: -0.4532897642048738\n",
            "alcohol: -2.290214648286054\n",
            "quality: -0.1813927078171807\n"
          ]
        }
      ]
    }
  ]
}